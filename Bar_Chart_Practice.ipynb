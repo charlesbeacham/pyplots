{
 "cells": [
  {
   "cell_type": "markdown",
   "metadata": {},
   "source": [
    "## Introduction\n",
    "In workspaces like this one, you will be able to practice visualization techniques you've seen in the course materials. In this particular Jupyter Notebook, you'll practice creating single-variable plots for categorical data.\n",
    "\n",
    "The cells where you are expected to contribute, are highlighted with **TO DO** markdown. "
   ]
  },
  {
   "cell_type": "code",
   "execution_count": null,
   "metadata": {},
   "outputs": [],
   "source": [
    "# prerequisite package imports\n",
    "import numpy as np\n",
    "import pandas as pd\n",
    "import matplotlib.pyplot as plt\n",
    "import seaborn as sb\n",
    "\n",
    "%matplotlib inline\n",
    "\n",
    "# The `solutions_univ.py` is a Python file available in the Notebook server that contains solution to the TO DO tasks.\n",
    "# The solution to each task is present in a separate function in the `solutions_univ.py` file. \n",
    "# Do not refer to the file untill you attempt to write code yourself. \n",
    "#from solutions_univ import bar_chart_solution_1, bar_chart_solution_2"
   ]
  },
  {
   "cell_type": "markdown",
   "metadata": {},
   "source": [
    "## About the Dataset\n",
    "In this workspace, you'll be working with the dataset comprised of attributes of creatures in the video game series Pokémon. The data was assembled from the database of information found in this [GitHub repository](https://github.com/veekun/pokedex/tree/master/pokedex/data/csv)."
   ]
  },
  {
   "cell_type": "code",
   "execution_count": null,
   "metadata": {},
   "outputs": [
    {
     "data": {
      "text/html": [
       "<div>\n",
       "<style scoped>\n",
       "    .dataframe tbody tr th:only-of-type {\n",
       "        vertical-align: middle;\n",
       "    }\n",
       "\n",
       "    .dataframe tbody tr th {\n",
       "        vertical-align: top;\n",
       "    }\n",
       "\n",
       "    .dataframe thead th {\n",
       "        text-align: right;\n",
       "    }\n",
       "</style>\n",
       "<table border=\"1\" class=\"dataframe\">\n",
       "  <thead>\n",
       "    <tr style=\"text-align: right;\">\n",
       "      <th></th>\n",
       "      <th>id</th>\n",
       "      <th>species</th>\n",
       "      <th>generation_id</th>\n",
       "      <th>height</th>\n",
       "      <th>weight</th>\n",
       "      <th>base_experience</th>\n",
       "      <th>type_1</th>\n",
       "      <th>type_2</th>\n",
       "      <th>hp</th>\n",
       "      <th>attack</th>\n",
       "      <th>defense</th>\n",
       "      <th>speed</th>\n",
       "      <th>special-attack</th>\n",
       "      <th>special-defense</th>\n",
       "    </tr>\n",
       "  </thead>\n",
       "  <tbody>\n",
       "    <tr>\n",
       "      <th>0</th>\n",
       "      <td>1</td>\n",
       "      <td>bulbasaur</td>\n",
       "      <td>1</td>\n",
       "      <td>0.7</td>\n",
       "      <td>6.9</td>\n",
       "      <td>64</td>\n",
       "      <td>grass</td>\n",
       "      <td>poison</td>\n",
       "      <td>45</td>\n",
       "      <td>49</td>\n",
       "      <td>49</td>\n",
       "      <td>45</td>\n",
       "      <td>65</td>\n",
       "      <td>65</td>\n",
       "    </tr>\n",
       "    <tr>\n",
       "      <th>1</th>\n",
       "      <td>2</td>\n",
       "      <td>ivysaur</td>\n",
       "      <td>1</td>\n",
       "      <td>1.0</td>\n",
       "      <td>13.0</td>\n",
       "      <td>142</td>\n",
       "      <td>grass</td>\n",
       "      <td>poison</td>\n",
       "      <td>60</td>\n",
       "      <td>62</td>\n",
       "      <td>63</td>\n",
       "      <td>60</td>\n",
       "      <td>80</td>\n",
       "      <td>80</td>\n",
       "    </tr>\n",
       "    <tr>\n",
       "      <th>2</th>\n",
       "      <td>3</td>\n",
       "      <td>venusaur</td>\n",
       "      <td>1</td>\n",
       "      <td>2.0</td>\n",
       "      <td>100.0</td>\n",
       "      <td>236</td>\n",
       "      <td>grass</td>\n",
       "      <td>poison</td>\n",
       "      <td>80</td>\n",
       "      <td>82</td>\n",
       "      <td>83</td>\n",
       "      <td>80</td>\n",
       "      <td>100</td>\n",
       "      <td>100</td>\n",
       "    </tr>\n",
       "    <tr>\n",
       "      <th>3</th>\n",
       "      <td>4</td>\n",
       "      <td>charmander</td>\n",
       "      <td>1</td>\n",
       "      <td>0.6</td>\n",
       "      <td>8.5</td>\n",
       "      <td>62</td>\n",
       "      <td>fire</td>\n",
       "      <td>NaN</td>\n",
       "      <td>39</td>\n",
       "      <td>52</td>\n",
       "      <td>43</td>\n",
       "      <td>65</td>\n",
       "      <td>60</td>\n",
       "      <td>50</td>\n",
       "    </tr>\n",
       "    <tr>\n",
       "      <th>4</th>\n",
       "      <td>5</td>\n",
       "      <td>charmeleon</td>\n",
       "      <td>1</td>\n",
       "      <td>1.1</td>\n",
       "      <td>19.0</td>\n",
       "      <td>142</td>\n",
       "      <td>fire</td>\n",
       "      <td>NaN</td>\n",
       "      <td>58</td>\n",
       "      <td>64</td>\n",
       "      <td>58</td>\n",
       "      <td>80</td>\n",
       "      <td>80</td>\n",
       "      <td>65</td>\n",
       "    </tr>\n",
       "  </tbody>\n",
       "</table>\n",
       "</div>"
      ],
      "text/plain": [
       "   id     species  generation_id  height  weight  base_experience type_1  \\\n",
       "0   1   bulbasaur              1     0.7     6.9               64  grass   \n",
       "1   2     ivysaur              1     1.0    13.0              142  grass   \n",
       "2   3    venusaur              1     2.0   100.0              236  grass   \n",
       "3   4  charmander              1     0.6     8.5               62   fire   \n",
       "4   5  charmeleon              1     1.1    19.0              142   fire   \n",
       "\n",
       "   type_2  hp  attack  defense  speed  special-attack  special-defense  \n",
       "0  poison  45      49       49     45              65               65  \n",
       "1  poison  60      62       63     60              80               80  \n",
       "2  poison  80      82       83     80             100              100  \n",
       "3     NaN  39      52       43     65              60               50  \n",
       "4     NaN  58      64       58     80              80               65  "
      ]
     },
     "execution_count": 3,
     "metadata": {},
     "output_type": "execute_result"
    }
   ],
   "source": [
    "pokemon = pd.read_csv('pokemon.csv')\n",
    "pokemon.head()"
   ]
  },
  {
   "cell_type": "markdown",
   "metadata": {},
   "source": [
    "### **TO DO Task 1** \n",
    "1. Explore the `pokemon` dataframe, and try to understand the significance of each of its column.\n",
    "2. There have been quite a few Pokémon introduced over the series' history. Display the count of Pokémon introduced in each generation? Create a _bar chart_ of these frequencies using the 'generation_id' column."
   ]
  },
  {
   "cell_type": "code",
   "execution_count": 5,
   "metadata": {},
   "outputs": [
    {
     "data": {
      "image/png": "[encoded data removed]",
      "text/plain": [
       "<Figure size 640x480 with 1 Axes>"
      ]
     },
     "metadata": {},
     "output_type": "display_data"
    }
   ],
   "source": [
    "base_color = sb.color_palette()[0]\n",
    "sb.countplot(data = pokemon, x = 'generation_id', color = base_color);"
   ]
  },
  {
   "cell_type": "markdown",
   "metadata": {},
   "source": [
    "### Expected Output: TO DO Task 1"
   ]
  },
  {
   "cell_type": "markdown",
   "metadata": {},
   "source": [
    "Once you've created your chart, run the cell below to check the output from our solution. **Your visualization does not need to be exactly the same as ours, but it should be able to come up with the same conclusions.**"
   ]
  },
  {
   "cell_type": "code",
   "execution_count": 7,
   "metadata": {},
   "outputs": [
    {
     "name": "stdout",
     "output_type": "stream",
     "text": [
      "I used seaborn's countplot function to generate this chart. I also added an additional argument so that each bar has the same color.\n"
     ]
    },
    {
     "data": {
      "image/png": "[encoded data removed]",
      "text/plain": [
       "<matplotlib.figure.Figure at 0x7fd8cb3935f8>"
      ]
     },
     "metadata": {
      "needs_background": "light"
     },
     "output_type": "display_data"
    }
   ],
   "source": [
    "# The function below has been defined in the `solutions_univ.py` file, that you can refer only when necessary. \n",
    "# This function contains the expected solution. \n",
    "bar_chart_solution_1()"
   ]
  },
  {
   "cell_type": "markdown",
   "metadata": {},
   "source": [
    "### **TO DO Task 2** \n",
    "1. Each Pokémon species has either `type_1`, `type_2` or both `types` that play a part in its offensive and defensive capabilities. The code below creates a new dataframe `pkmn_types` that club the rows of both `type_1` and `type_2`, so that the resulting dataframe has **new** column, `type_level`. \n",
    "\n",
    "**Display, how frequent is each type?**\n",
    "\n",
    "\n",
    "\n",
    "The function below will do the following in the pokemon dataframe *out of place*:\n",
    "1. Select the 'id', and 'species' columns from pokemon. \n",
    "2. Remove the 'type_1', 'type_2' columns from pokemon\n",
    "3. Add a new column 'type_level' that can have a value either 'type_1' or 'type_2'\n",
    "4. Add another column 'type' that will contain the actual value contained in the 'type_1', 'type_2' columns. For example, the first row in the pokemon dataframe having `id=1`\tand `species=bulbasaur` will now occur twice in the resulting dataframe after the `melt()` operation. The first occurrence will have `type=grass`, whereas, the second occurrence will have `type=poison`."
   ]
  },
  {
   "cell_type": "code",
   "execution_count": 6,
   "metadata": {},
   "outputs": [
    {
     "data": {
      "text/html": [
       "<div>\n",
       "<style scoped>\n",
       "    .dataframe tbody tr th:only-of-type {\n",
       "        vertical-align: middle;\n",
       "    }\n",
       "\n",
       "    .dataframe tbody tr th {\n",
       "        vertical-align: top;\n",
       "    }\n",
       "\n",
       "    .dataframe thead th {\n",
       "        text-align: right;\n",
       "    }\n",
       "</style>\n",
       "<table border=\"1\" class=\"dataframe\">\n",
       "  <thead>\n",
       "    <tr style=\"text-align: right;\">\n",
       "      <th></th>\n",
       "      <th>id</th>\n",
       "      <th>species</th>\n",
       "      <th>type_level</th>\n",
       "      <th>type</th>\n",
       "    </tr>\n",
       "  </thead>\n",
       "  <tbody>\n",
       "    <tr>\n",
       "      <th>0</th>\n",
       "      <td>1</td>\n",
       "      <td>bulbasaur</td>\n",
       "      <td>type_1</td>\n",
       "      <td>grass</td>\n",
       "    </tr>\n",
       "    <tr>\n",
       "      <th>1</th>\n",
       "      <td>2</td>\n",
       "      <td>ivysaur</td>\n",
       "      <td>type_1</td>\n",
       "      <td>grass</td>\n",
       "    </tr>\n",
       "    <tr>\n",
       "      <th>2</th>\n",
       "      <td>3</td>\n",
       "      <td>venusaur</td>\n",
       "      <td>type_1</td>\n",
       "      <td>grass</td>\n",
       "    </tr>\n",
       "    <tr>\n",
       "      <th>3</th>\n",
       "      <td>4</td>\n",
       "      <td>charmander</td>\n",
       "      <td>type_1</td>\n",
       "      <td>fire</td>\n",
       "    </tr>\n",
       "    <tr>\n",
       "      <th>4</th>\n",
       "      <td>5</td>\n",
       "      <td>charmeleon</td>\n",
       "      <td>type_1</td>\n",
       "      <td>fire</td>\n",
       "    </tr>\n",
       "  </tbody>\n",
       "</table>\n",
       "</div>"
      ],
      "text/plain": [
       "   id     species type_level   type\n",
       "0   1   bulbasaur     type_1  grass\n",
       "1   2     ivysaur     type_1  grass\n",
       "2   3    venusaur     type_1  grass\n",
       "3   4  charmander     type_1   fire\n",
       "4   5  charmeleon     type_1   fire"
      ]
     },
     "execution_count": 6,
     "metadata": {},
     "output_type": "execute_result"
    }
   ],
   "source": [
    "pkmn_types = pokemon.melt(id_vars = ['id','species'], \n",
    "                          value_vars = ['type_1', 'type_2'], \n",
    "                          var_name = 'type_level', value_name = 'type').dropna()\n",
    "pkmn_types.head()"
   ]
  },
  {
   "cell_type": "code",
   "execution_count": 17,
   "metadata": {},
   "outputs": [
    {
     "name": "stdout",
     "output_type": "stream",
     "text": [
      "water       131\n",
      "normal      109\n",
      "flying       98\n",
      "grass        97\n",
      "psychic      82\n",
      "bug          77\n",
      "poison       66\n",
      "ground       64\n",
      "fire         64\n",
      "rock         60\n",
      "fighting     54\n",
      "electric     48\n",
      "fairy        47\n",
      "steel        47\n",
      "dark         46\n",
      "dragon       45\n",
      "ghost        43\n",
      "ice          34\n",
      "Name: type, dtype: int64\n"
     ]
    },
    {
     "data": {
      "text/plain": [
       "Index(['water', 'normal', 'flying', 'grass', 'psychic', 'bug', 'poison',\n",
       "       'ground', 'fire', 'rock', 'fighting', 'electric', 'fairy', 'steel',\n",
       "       'dark', 'dragon', 'ghost', 'ice'],\n",
       "      dtype='object')"
      ]
     },
     "execution_count": 17,
     "metadata": {},
     "output_type": "execute_result"
    }
   ],
   "source": [
    "# YOUR CODE HERE\n",
    "type_counts = pkmn_types['type'].value_counts()\n",
    "print(type_counts)\n",
    "\n",
    "type_order = type_counts.index\n",
    "type_order"
   ]
  },
  {
   "cell_type": "markdown",
   "metadata": {},
   "source": [
    "2. Your task is to use this dataframe to create a _relative frequency_ plot of the proportion of Pokémon with each type, _sorted_ from most frequent to least. **Hint**: The sum across bars should be greater than 100%, since many Pokémon have two types. Keep this in mind when considering a denominator to compute relative frequencies."
   ]
  },
  {
   "cell_type": "code",
   "execution_count": 24,
   "metadata": {},
   "outputs": [
    {
     "data": {
      "image/png": "[encoded data removed]",
      "text/plain": [
       "<Figure size 640x480 with 1 Axes>"
      ]
     },
     "metadata": {},
     "output_type": "display_data"
    }
   ],
   "source": [
    "# YOUR CODE HERE\n",
    "n_pokemon = type_counts.sum()\n",
    "max_type_count = type_counts[0]\n",
    "max_prop = max_type_count / n_pokemon # length of longest bar\n",
    "\n",
    "#create array of evvenly spaced prop values\n",
    "tick_props = np.arange(0, max_prop, 0.02)\n",
    "tick_props\n",
    "\n",
    "#create tick labels\n",
    "tick_names = ['{:0.2f}'.format(v) for v in tick_props]\n",
    "tick_names\n",
    "\n",
    "sb.countplot(data = pkmn_types, y = 'type', color = base_color, order = type_order);\n",
    "plt.xticks(tick_props * n_pokemon, tick_names);\n",
    "plt.xlabel('proportion');"
   ]
  },
  {
   "cell_type": "markdown",
   "metadata": {},
   "source": [
    "### Expected Output: TO DO Task 2"
   ]
  },
  {
   "cell_type": "code",
   "execution_count": null,
   "metadata": {},
   "outputs": [],
   "source": [
    "# The function below has been defined in the `solutions_univ.py` file, that you can refer only when necessary. \n",
    "# This function contains the expected solution. \n",
    "bar_chart_solution_2()"
   ]
  },
  {
   "cell_type": "markdown",
   "metadata": {},
   "source": [
    "If you're interested in seeing the code used to generate the solution plots, you can find it in the `solutions_univ.py` script in the workspace folder. You can navigate there by clicking on the Jupyter icon in the upper left corner of the workspace. Spoiler warning: the script contains solutions for all of the workspace exercises in this lesson, so take care not to spoil your practice!"
   ]
  }
 ],
 "metadata": {
  "kernelspec": {
   "display_name": "Python 3 (ipykernel)",
   "language": "python",
   "name": "python3"
  },
  "language_info": {
   "codemirror_mode": {
    "name": "ipython",
    "version": 3
   },
   "file_extension": ".py",
   "mimetype": "text/x-python",
   "name": "python",
   "nbconvert_exporter": "python",
   "pygments_lexer": "ipython3",
   "version": "3.11.2"
  }
 },
 "nbformat": 4,
 "nbformat_minor": 4
}
